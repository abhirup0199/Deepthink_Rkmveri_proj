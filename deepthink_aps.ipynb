{
  "cells": [
    {
      "cell_type": "code",
      "execution_count": 36,
      "metadata": {
        "colab": {
          "base_uri": "https://localhost:8080/"
        },
        "id": "aw9iL-wPGCZG",
        "outputId": "eedafe3d-7bc1-4a87-9330-17d22bf5a1ab"
      },
      "outputs": [
        {
          "output_type": "stream",
          "name": "stdout",
          "text": [
            "Submission file has been created: Abhirup.xlsx\n"
          ]
        }
      ],
      "source": [
        "import pandas as pd\n",
        "import numpy as np\n",
        "from sklearn.ensemble import RandomForestRegressor\n",
        "\n",
        "# Load the sales dataset\n",
        "sales_file_path = '/content/Data.xlsx'\n",
        "try:\n",
        "    sales_df = pd.read_excel(sales_file_path, sheet_name='Final', engine='openpyxl')\n",
        "except Exception as e:\n",
        "    print(\"Error loading sales file. Ensure the file format is valid and engine is installed.\")\n",
        "    raise e\n",
        "\n",
        "# Reshape sales data from wide to long format\n",
        "sales_df_long = sales_df.melt(id_vars=[\"Warehouse id\", \"Region\", \"SKU id\"],\n",
        "                              var_name=\"Date\",\n",
        "                              value_name=\"Sales\")\n",
        "\n",
        "# Convert the 'Date' column to datetime format\n",
        "sales_df_long['Date'] = pd.to_datetime(sales_df_long['Date'])\n",
        "\n",
        "# Sort the data for time series processing\n",
        "sales_df_long = sales_df_long.sort_values(by=[\"Warehouse id\", \"SKU id\", \"Date\"])\n",
        "\n",
        "# Fill missing values (if any) with 0\n",
        "sales_df_long['Sales'] = sales_df_long['Sales'].fillna(0)\n",
        "\n",
        "# Feature Engineering: Add lag and rolling mean features for sales\n",
        "def create_features(data, lags, rolling_windows):\n",
        "    for lag in lags:\n",
        "        data[f'lag_sales_{lag}'] = data.groupby(['Warehouse id', 'SKU id'])['Sales'].shift(lag)\n",
        "    for window in rolling_windows:\n",
        "        data[f'rolling_mean_sales_{window}'] = data.groupby(['Warehouse id', 'SKU id'])['Sales'].shift(1).rolling(window).mean()\n",
        "    return data\n",
        "\n",
        "# Add lag and rolling mean features\n",
        "sales_df_long = create_features(sales_df_long, lags=[1, 2, 3], rolling_windows=[2, 3])\n",
        "\n",
        "# Drop rows with NaN values (caused by lag/rolling features)\n",
        "sales_df_long = sales_df_long.dropna()\n",
        "\n",
        "# Split data into training and testing sets\n",
        "train = sales_df_long[sales_df_long['Date'] < '2021-06-01']\n",
        "test = sales_df_long[sales_df_long['Date'] == '2021-06-01']\n",
        "\n",
        "# Define features and target variable\n",
        "features = [col for col in sales_df_long.columns if col.startswith('lag_') or col.startswith('rolling_mean_')]\n",
        "target = 'Sales'\n",
        "\n",
        "# Train a separate model for each SKU-Warehouse combination\n",
        "predictions = []\n",
        "for (warehouse, sku), group in train.groupby(['Warehouse id', 'SKU id']):\n",
        "    # Train-test split\n",
        "    X_train = group[features]\n",
        "    y_train = group[target]\n",
        "\n",
        "    # Test data for this SKU-Warehouse\n",
        "    test_group = test[(test['Warehouse id'] == warehouse) & (test['SKU id'] == sku)]\n",
        "    if not test_group.empty:\n",
        "        X_test = test_group[features]\n",
        "\n",
        "        # Train the model\n",
        "        model = RandomForestRegressor(random_state=42)\n",
        "        model.fit(X_train, y_train)\n",
        "        y_pred = model.predict(X_test)\n",
        "\n",
        "        # Predict for June 2021\n",
        "        test_group['Forecasted Sales'] = model.predict(X_test)\n",
        "        predictions.append(test_group)\n",
        "\n",
        "\n",
        "    else:\n",
        "        # Handle cases where there is no test data\n",
        "        empty_prediction = group.iloc[-1:].copy()\n",
        "        empty_prediction['Date'] = pd.Timestamp('2021-06-01')\n",
        "        empty_prediction['Forecasted Sales'] = y_train.mean()  # Default to mean sales\n",
        "        predictions.append(empty_prediction)\n",
        "\n",
        "# Combine all predictions\n",
        "if predictions:\n",
        "    predictions_df = pd.concat(predictions)\n",
        "else:\n",
        "    raise ValueError(\"No predictions were generated. Please check your data and feature engineering steps.\")\n",
        "\n",
        "# Load the submission format\n",
        "submission_file_path = '/content/Submission Format.xlsx'  # Replace with the correct file path\n",
        "submission_df = pd.read_excel(submission_file_path)\n",
        "\n",
        "# Merge the predictions into the submission file\n",
        "submission_df = submission_df.merge(predictions_df[['Warehouse id', 'SKU id', 'Forecasted Sales']],\n",
        "                                     on=['Warehouse id', 'SKU id'],\n",
        "                                     how='left')\n",
        "\n",
        "# Rename the forecasted sales column for submission\n",
        "submission_df.rename(columns={'Forecasted Sales': 'June 2021 Sales'}, inplace=True)\n",
        "\n",
        "# Fill missing values in case any SKU/Warehouse combination didn't have predictions\n",
        "submission_df['June 2021 Sales'] = submission_df['June 2021 Sales'].fillna(0)\n",
        "\n",
        "# Save the submission file\n",
        "submission_df.to_excel('Abhirup.xlsx', index=False)\n",
        "\n",
        "# Output the final submission file location\n",
        "print(\"Submission file has been created: Abhirup.xlsx\")\n"
      ]
    },
    {
      "cell_type": "code",
      "source": [
        "import pandas as pd\n",
        "import numpy as np\n",
        "\n",
        "# Function to calculate MAPE\n",
        "def calculate_mape(actual, forecasted):\n",
        "    actual, forecasted = np.array(actual), np.array(forecasted)\n",
        "    # Avoid division by zero\n",
        "    non_zero_indices = actual != 0\n",
        "    if non_zero_indices.sum() == 0:  # If there are no non-zero actual values\n",
        "        return np.nan\n",
        "    mape = np.mean(np.abs((actual[non_zero_indices] - forecasted[non_zero_indices]) / actual[non_zero_indices])) * 100\n",
        "    return mape\n",
        "\n",
        "# Load the submission format (actual sales for June 2021)\n",
        "checking_file_path = '/content/Abhirup.xlsx'\n",
        "checking_df = pd.read_excel(checking_file_path)\n",
        "\n",
        "# Ensure the column names match\n",
        "checking_df.rename(columns={\"June 2021 Sales\": \"Sales\"}, inplace=True)\n",
        "\n",
        "# Merge the predictions into the submission file\n",
        "# Ensure predictions_df is correctly generated from your model predictions\n",
        "merged_df = checking_df.merge(\n",
        "    predictions_df[['Warehouse id', 'SKU id', 'Forecasted Sales']],\n",
        "    on=['Warehouse id', 'SKU id'],\n",
        "    how='left'\n",
        ")\n",
        "\n",
        "# Check for missing data\n",
        "if merged_df['Forecasted Sales'].isnull().any():\n",
        "    print(\"Warning: Some SKUs are missing forecasted sales. These rows will be excluded from MAPE calculation.\")\n",
        "\n",
        "# Drop rows with missing forecasted sales\n",
        "merged_df = merged_df.dropna(subset=['Forecasted Sales'])\n",
        "\n",
        "# Calculate MAPE\n",
        "actual_sales = merged_df['Sales'].values\n",
        "forecasted_sales = merged_df['Forecasted Sales'].values\n",
        "\n",
        "mape_value = calculate_mape(actual_sales, forecasted_sales)\n",
        "\n",
        "# Output the MAPE value\n",
        "print(f\"Mean Absolute Percentage Error (MAPE): {mape_value:.2f}%\")\n"
      ],
      "metadata": {
        "colab": {
          "base_uri": "https://localhost:8080/"
        },
        "id": "UNi4bufIYFPQ",
        "outputId": "d764394a-6546-41df-a53e-308d1cbf24e7"
      },
      "execution_count": 37,
      "outputs": [
        {
          "output_type": "stream",
          "name": "stdout",
          "text": [
            "Mean Absolute Percentage Error (MAPE): 0.00%\n"
          ]
        }
      ]
    }
  ],
  "metadata": {
    "colab": {
      "provenance": []
    },
    "kernelspec": {
      "display_name": "Python 3",
      "name": "python3"
    },
    "language_info": {
      "name": "python"
    }
  },
  "nbformat": 4,
  "nbformat_minor": 0
}